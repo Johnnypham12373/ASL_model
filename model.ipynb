{
 "cells": [
  {
   "cell_type": "code",
   "execution_count": 4,
   "id": "5695b0ea",
   "metadata": {},
   "outputs": [],
   "source": [
    "import cv2\n",
    "import numpy as np\n",
    "import os\n",
    "from matplotlib import pyplot as plt\n",
    "import time\n",
    "import mediapipe as mp "
   ]
  },
  {
   "cell_type": "code",
   "execution_count": 23,
   "id": "30d48a3c",
   "metadata": {},
   "outputs": [],
   "source": [
    "def mediapipe_detection(image, model):\n",
    "    image = cv2.cvtColor(image, cv2.COLOR_BGR2RGB)  \n",
    "    image.flags.writeable = False                  \n",
    "    results = model.process(image)                \n",
    "    image.flags.writeable = True                 \n",
    "    image = cv2.cvtColor(image, cv2.COLOR_RGB2BGR) \n",
    "    return image, results"
   ]
  },
  {
   "cell_type": "code",
   "execution_count": 15,
   "id": "2a798b0d",
   "metadata": {},
   "outputs": [],
   "source": [
    "def extract_keypoints(results):\n",
    "    # Initialize empty arrays\n",
    "    lh = np.zeros(21 * 3)\n",
    "    rh = np.zeros(21 * 3)\n",
    "\n",
    "    if results.multi_hand_landmarks and results.multi_handedness:\n",
    "        for idx, hand_landmarks in enumerate(results.multi_hand_landmarks):\n",
    "            label = results.multi_handedness[idx].classification[0].label  # 'Left' or 'Right'\n",
    "            hand_kp = np.array([[lm.x, lm.y, lm.z] for lm in hand_landmarks.landmark]).flatten()\n",
    "            \n",
    "            if label == 'Left':\n",
    "                lh = hand_kp\n",
    "            elif label == 'Right':\n",
    "                rh = hand_kp\n",
    "\n",
    "    return np.concatenate([lh, rh])\n"
   ]
  },
  {
   "cell_type": "code",
   "execution_count": 38,
   "id": "116e2ed5",
   "metadata": {},
   "outputs": [],
   "source": [
    "DATH_PATH = os.path.join('ASL_Data')\n",
    "# actions = np.array(['a','b','c','d','e','f','g','h','i','j','k','l','m','n','o','p','q','r','s','t','u','v','w','x','y','z'])\n",
    "actions = np.array(['a','b','c'])\n",
    "n_sequences = 20\n",
    "s_length = 30\n",
    "\n",
    "for action in actions: \n",
    "    action_path = os.path.join(DATH_PATH, action)\n",
    "    os.makedirs(action_path, exist_ok=True)\n",
    "\n",
    "    existing_dirs = os.listdir(action_path)\n",
    "    if existing_dirs:\n",
    "        dirmax = np.max(np.array(existing_dirs).astype(int))\n",
    "    else:\n",
    "        dirmax = -1  # if no existing folders, start at 0\n",
    "    for sequence in range(n_sequences):  # 0 to 19\n",
    "        try: \n",
    "            os.makedirs(os.path.join(action_path, str(dirmax + 1 + sequence)))\n",
    "        except:\n",
    "            pass"
   ]
  },
  {
   "cell_type": "code",
   "execution_count": 39,
   "id": "98da55dd",
   "metadata": {},
   "outputs": [],
   "source": [
    "mp_hands = mp.solutions.hands\n",
    "mp_draw = mp.solutions.drawing_utils\n",
    "\n",
    "cap = cv2.VideoCapture(0)\n",
    "with mp_hands.Hands(\n",
    "    max_num_hands=2,\n",
    "    min_detection_confidence=0.7,\n",
    "    min_tracking_confidence=0.7\n",
    ") as hands:\n",
    "\n",
    "    for action in actions:\n",
    "        for sequence in range(n_sequences):\n",
    "            for frame_num in range(s_length):\n",
    "\n",
    "                ret, frame = cap.read()\n",
    "\n",
    "                if not ret:\n",
    "                    break\n",
    "                \n",
    "                image, res = mediapipe_detection(frame, hands)\n",
    "                if res.multi_hand_landmarks:\n",
    "                    for hand_landmarks in res.multi_hand_landmarks:\n",
    "                        mp_draw.draw_landmarks(\n",
    "                            image,\n",
    "                            hand_landmarks,\n",
    "                            mp_hands.HAND_CONNECTIONS)\n",
    "                \n",
    "                if frame_num == 0: \n",
    "                    cv2.putText(image, 'STARTING COLLECTION', (120,200), \n",
    "                               cv2.FONT_HERSHEY_SIMPLEX, 1, (0,255, 0), 4, cv2.LINE_AA)\n",
    "                    cv2.putText(image, 'Collecting frames for {} Video Number {}'.format(action, sequence), (15,12), \n",
    "                               cv2.FONT_HERSHEY_SIMPLEX, 0.5, (0, 0, 255), 1, cv2.LINE_AA)\n",
    "                    cv2.imshow('Feed', image)\n",
    "                    cv2.waitKey(250)\n",
    "                else: \n",
    "                    cv2.putText(image, 'Collecting frames for {} Video Number {}'.format(action, sequence), (15,12), \n",
    "                               cv2.FONT_HERSHEY_SIMPLEX, 0.5, (0, 0, 255), 1, cv2.LINE_AA)\n",
    "                    cv2.imshow('Feed', image)\n",
    "                \n",
    "                keypoints = extract_keypoints(res)\n",
    "                npy_path = os.path.join(DATH_PATH, action, str(sequence), str(frame_num))\n",
    "                np.save(npy_path, keypoints)\n",
    "\n",
    "                if cv2.waitKey(15) & 0xFF == ord('z'):\n",
    "                    break\n",
    "                    \n",
    "    cap.release()\n",
    "cv2.destroyAllWindows()"
   ]
  }
 ],
 "metadata": {
  "kernelspec": {
   "display_name": "cv2025",
   "language": "python",
   "name": "python3"
  },
  "language_info": {
   "codemirror_mode": {
    "name": "ipython",
    "version": 3
   },
   "file_extension": ".py",
   "mimetype": "text/x-python",
   "name": "python",
   "nbconvert_exporter": "python",
   "pygments_lexer": "ipython3",
   "version": "3.8.20"
  }
 },
 "nbformat": 4,
 "nbformat_minor": 5
}
